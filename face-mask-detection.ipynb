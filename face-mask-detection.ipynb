{
 "cells": [
  {
   "cell_type": "code",
   "execution_count": 1,
   "id": "cadb2556",
   "metadata": {
    "_cell_guid": "8d8a2bd6-bd64-4dea-a54c-887955535c8a",
    "_uuid": "3ec5e681-4cc7-4f89-a519-f86cd14490ee",
    "collapsed": false,
    "execution": {
     "iopub.execute_input": "2022-02-25T12:52:25.990010Z",
     "iopub.status.busy": "2022-02-25T12:52:25.988083Z",
     "iopub.status.idle": "2022-02-25T12:52:32.419235Z",
     "shell.execute_reply": "2022-02-25T12:52:32.418045Z",
     "shell.execute_reply.started": "2022-02-25T12:42:54.468038Z"
    },
    "jupyter": {
     "outputs_hidden": false
    },
    "papermill": {
     "duration": 6.449037,
     "end_time": "2022-02-25T12:52:32.419433",
     "exception": false,
     "start_time": "2022-02-25T12:52:25.970396",
     "status": "completed"
    },
    "tags": []
   },
   "outputs": [],
   "source": [
    "import tensorflow as tf\n",
    "import pandas as pd\n",
    "import numpy as np\n",
    "import matplotlib.pyplot as plt\n",
    "import seaborn as sns\n",
    "from sklearn.model_selection import train_test_split\n",
    "from sklearn.metrics import classification_report\n",
    "import os\n",
    "import warnings\n",
    "warnings.filterwarnings(\"ignore\")"
   ]
  },
  {
   "cell_type": "code",
   "execution_count": 2,
   "id": "2b5f0bba",
   "metadata": {
    "_cell_guid": "2017ee03-912e-4257-90c4-ef7af9e934a7",
    "_uuid": "08c8a9a7-71e0-4cc8-9694-9a339c436005",
    "collapsed": false,
    "execution": {
     "iopub.execute_input": "2022-02-25T12:52:32.449065Z",
     "iopub.status.busy": "2022-02-25T12:52:32.448045Z",
     "iopub.status.idle": "2022-02-25T12:53:21.306515Z",
     "shell.execute_reply": "2022-02-25T12:53:21.307082Z",
     "shell.execute_reply.started": "2022-02-25T12:42:57.422323Z"
    },
    "jupyter": {
     "outputs_hidden": false
    },
    "papermill": {
     "duration": 48.875108,
     "end_time": "2022-02-25T12:53:21.307259",
     "exception": false,
     "start_time": "2022-02-25T12:52:32.432151",
     "status": "completed"
    },
    "tags": []
   },
   "outputs": [],
   "source": [
    "#collect the images and put them in dataframe\n",
    "with_mask_images = []\n",
    "without_mask_images = []\n",
    "i = 0\n",
    "for file_name in os.listdir(\"../input/face-mask-dataset/data/with_mask\"):\n",
    "    image =tf.keras.preprocessing.image.load_img(os.path.join(\"../input/face-mask-dataset/data/with_mask\",file_name),target_size=(50,50))\n",
    "    image = tf.keras.preprocessing.image.img_to_array(image, dtype=\"float32\")\n",
    "    image=tf.keras.applications.mobilenet_v2.preprocess_input(image)\n",
    "    with_mask_images.append(image)\n",
    "    i = i + 1\n",
    "    if(i > 3500):\n",
    "        break\n",
    "j = 0   \n",
    "for file_name in os.listdir(\"../input/face-mask-dataset/data/without_mask\"):\n",
    "    image =tf.keras.preprocessing.image.load_img(os.path.join(\"../input/face-mask-dataset/data/without_mask\",file_name),target_size=(50,50))\n",
    "    image = tf.keras.preprocessing.image.img_to_array(image, dtype=\"float32\")\n",
    "    image = tf.keras.applications.mobilenet_v2.preprocess_input(image)\n",
    "    without_mask_images.append(image)\n",
    "    j = j + 1\n",
    "    if(j > 3500):\n",
    "        break\n",
    "    \n",
    "df = pd.DataFrame({\"images\":with_mask_images, \"with_mask\":[1 for element in with_mask_images]})\n",
    "without_mask_df = pd.DataFrame({\"images\":without_mask_images, \"with_mask\":[0 for element in without_mask_images]})"
   ]
  },
  {
   "cell_type": "code",
   "execution_count": 3,
   "id": "ff1380a6",
   "metadata": {
    "_cell_guid": "e13b0813-3fed-4e70-805b-c7b8e503ba52",
    "_uuid": "b93fd642-000c-4755-bfe2-f2dfc2256a4a",
    "execution": {
     "iopub.execute_input": "2022-02-25T12:53:21.337796Z",
     "iopub.status.busy": "2022-02-25T12:53:21.337056Z",
     "iopub.status.idle": "2022-02-25T12:53:29.641626Z",
     "shell.execute_reply": "2022-02-25T12:53:29.640921Z",
     "shell.execute_reply.started": "2022-02-25T12:43:21.469229Z"
    },
    "papermill": {
     "duration": 8.321359,
     "end_time": "2022-02-25T12:53:29.641781",
     "exception": false,
     "start_time": "2022-02-25T12:53:21.320422",
     "status": "completed"
    },
    "tags": []
   },
   "outputs": [
    {
     "data": {
      "text/html": [
       "<div>\n",
       "<style scoped>\n",
       "    .dataframe tbody tr th:only-of-type {\n",
       "        vertical-align: middle;\n",
       "    }\n",
       "\n",
       "    .dataframe tbody tr th {\n",
       "        vertical-align: top;\n",
       "    }\n",
       "\n",
       "    .dataframe thead th {\n",
       "        text-align: right;\n",
       "    }\n",
       "</style>\n",
       "<table border=\"1\" class=\"dataframe\">\n",
       "  <thead>\n",
       "    <tr style=\"text-align: right;\">\n",
       "      <th></th>\n",
       "      <th>images</th>\n",
       "      <th>with_mask</th>\n",
       "    </tr>\n",
       "  </thead>\n",
       "  <tbody>\n",
       "    <tr>\n",
       "      <th>0</th>\n",
       "      <td>[[[-0.90588236, -0.8901961, -0.8980392], [-0.9...</td>\n",
       "      <td>1</td>\n",
       "    </tr>\n",
       "    <tr>\n",
       "      <th>1</th>\n",
       "      <td>[[[0.49803925, 0.4666667, 0.39607847], [0.4980...</td>\n",
       "      <td>0</td>\n",
       "    </tr>\n",
       "    <tr>\n",
       "      <th>2</th>\n",
       "      <td>[[[1.0, 1.0, 1.0], [1.0, 1.0, 1.0], [1.0, 1.0,...</td>\n",
       "      <td>1</td>\n",
       "    </tr>\n",
       "    <tr>\n",
       "      <th>3</th>\n",
       "      <td>[[[1.0, 1.0, 1.0], [1.0, 1.0, 1.0], [1.0, 1.0,...</td>\n",
       "      <td>0</td>\n",
       "    </tr>\n",
       "    <tr>\n",
       "      <th>4</th>\n",
       "      <td>[[[0.52156866, -0.41176468, -0.47450978], [0.5...</td>\n",
       "      <td>0</td>\n",
       "    </tr>\n",
       "    <tr>\n",
       "      <th>...</th>\n",
       "      <td>...</td>\n",
       "      <td>...</td>\n",
       "    </tr>\n",
       "    <tr>\n",
       "      <th>6997</th>\n",
       "      <td>[[[0.8039216, 0.58431375, 0.27058828], [0.8274...</td>\n",
       "      <td>1</td>\n",
       "    </tr>\n",
       "    <tr>\n",
       "      <th>6998</th>\n",
       "      <td>[[[-0.5372549, -0.52156866, -0.6862745], [-0.4...</td>\n",
       "      <td>0</td>\n",
       "    </tr>\n",
       "    <tr>\n",
       "      <th>6999</th>\n",
       "      <td>[[[0.81960785, 0.8039216, 0.8117647], [0.84313...</td>\n",
       "      <td>0</td>\n",
       "    </tr>\n",
       "    <tr>\n",
       "      <th>7000</th>\n",
       "      <td>[[[0.4666667, 0.09019613, -0.5529412], [0.6392...</td>\n",
       "      <td>1</td>\n",
       "    </tr>\n",
       "    <tr>\n",
       "      <th>7001</th>\n",
       "      <td>[[[-0.5764706, -0.38823527, -0.38823527], [-0....</td>\n",
       "      <td>0</td>\n",
       "    </tr>\n",
       "  </tbody>\n",
       "</table>\n",
       "<p>7002 rows × 2 columns</p>\n",
       "</div>"
      ],
      "text/plain": [
       "                                                 images  with_mask\n",
       "0     [[[-0.90588236, -0.8901961, -0.8980392], [-0.9...          1\n",
       "1     [[[0.49803925, 0.4666667, 0.39607847], [0.4980...          0\n",
       "2     [[[1.0, 1.0, 1.0], [1.0, 1.0, 1.0], [1.0, 1.0,...          1\n",
       "3     [[[1.0, 1.0, 1.0], [1.0, 1.0, 1.0], [1.0, 1.0,...          0\n",
       "4     [[[0.52156866, -0.41176468, -0.47450978], [0.5...          0\n",
       "...                                                 ...        ...\n",
       "6997  [[[0.8039216, 0.58431375, 0.27058828], [0.8274...          1\n",
       "6998  [[[-0.5372549, -0.52156866, -0.6862745], [-0.4...          0\n",
       "6999  [[[0.81960785, 0.8039216, 0.8117647], [0.84313...          0\n",
       "7000  [[[0.4666667, 0.09019613, -0.5529412], [0.6392...          1\n",
       "7001  [[[-0.5764706, -0.38823527, -0.38823527], [-0....          0\n",
       "\n",
       "[7002 rows x 2 columns]"
      ]
     },
     "execution_count": 3,
     "metadata": {},
     "output_type": "execute_result"
    }
   ],
   "source": [
    "df = df.append(without_mask_df, ignore_index = True)\n",
    "df.sample(frac = 1 ,ignore_index = True, random_state = 1)  #shuffle the dataframe\n"
   ]
  },
  {
   "cell_type": "code",
   "execution_count": 4,
   "id": "b5581379",
   "metadata": {
    "_cell_guid": "e661a880-e0d8-4c78-a363-d23040feb462",
    "_uuid": "36b92d74-665c-46a2-8fda-9ae481c8879c",
    "collapsed": false,
    "execution": {
     "iopub.execute_input": "2022-02-25T12:53:29.678432Z",
     "iopub.status.busy": "2022-02-25T12:53:29.677687Z",
     "iopub.status.idle": "2022-02-25T12:53:29.682657Z",
     "shell.execute_reply": "2022-02-25T12:53:29.683151Z",
     "shell.execute_reply.started": "2022-02-25T12:43:34.227053Z"
    },
    "jupyter": {
     "outputs_hidden": false
    },
    "papermill": {
     "duration": 0.028269,
     "end_time": "2022-02-25T12:53:29.683336",
     "exception": false,
     "start_time": "2022-02-25T12:53:29.655067",
     "status": "completed"
    },
    "tags": []
   },
   "outputs": [],
   "source": [
    "#divide the data to train, cross validation and test sets\n",
    "x_train, x_test, y_train, y_test  = train_test_split(df[\"images\"],df[\"with_mask\"],test_size=0.4,shuffle = True, random_state=42)\n",
    "x_cross_validation, x_test, y_cross_validation, y_test  = train_test_split(x_test,y_test,test_size=0.5,shuffle = True, random_state=42)"
   ]
  },
  {
   "cell_type": "code",
   "execution_count": 5,
   "id": "12fd22e5",
   "metadata": {
    "execution": {
     "iopub.execute_input": "2022-02-25T12:53:29.712762Z",
     "iopub.status.busy": "2022-02-25T12:53:29.712054Z",
     "iopub.status.idle": "2022-02-25T12:53:29.994010Z",
     "shell.execute_reply": "2022-02-25T12:53:29.994566Z",
     "shell.execute_reply.started": "2022-02-25T12:46:15.774674Z"
    },
    "papermill": {
     "duration": 0.298665,
     "end_time": "2022-02-25T12:53:29.994746",
     "exception": false,
     "start_time": "2022-02-25T12:53:29.696081",
     "status": "completed"
    },
    "tags": []
   },
   "outputs": [],
   "source": [
    "x_train = np.array([np.array(val) for val in x_train])\n",
    "x_test = np.array([np.array(val) for val in x_test])\n",
    "x_cross_validation = np.array([np.array(val) for val in x_cross_validation])"
   ]
  },
  {
   "cell_type": "code",
   "execution_count": 6,
   "id": "a03e16bc",
   "metadata": {
    "_cell_guid": "bedf2a82-bae9-429d-8a04-f01cd4bab75e",
    "_uuid": "c04006f5-37d4-423d-b7fd-7006336063bc",
    "collapsed": false,
    "execution": {
     "iopub.execute_input": "2022-02-25T12:53:30.028933Z",
     "iopub.status.busy": "2022-02-25T12:53:30.023289Z",
     "iopub.status.idle": "2022-02-25T12:56:11.670631Z",
     "shell.execute_reply": "2022-02-25T12:56:11.671156Z",
     "shell.execute_reply.started": "2022-02-25T12:46:17.953208Z"
    },
    "jupyter": {
     "outputs_hidden": false
    },
    "papermill": {
     "duration": 161.663822,
     "end_time": "2022-02-25T12:56:11.671368",
     "exception": false,
     "start_time": "2022-02-25T12:53:30.007546",
     "status": "completed"
    },
    "tags": []
   },
   "outputs": [
    {
     "name": "stderr",
     "output_type": "stream",
     "text": [
      "2022-02-25 12:53:30.067762: I tensorflow/core/common_runtime/process_util.cc:146] Creating new thread pool with default inter op setting: 2. Tune using inter_op_parallelism_threads for best performance.\n",
      "2022-02-25 12:53:30.425301: I tensorflow/compiler/mlir/mlir_graph_optimization_pass.cc:185] None of the MLIR Optimization Passes are enabled (registered 2)\n"
     ]
    },
    {
     "name": "stdout",
     "output_type": "stream",
     "text": [
      "Epoch 1/10\n",
      "141/141 [==============================] - 17s 116ms/step - loss: 0.3438 - accuracy: 0.8553 - val_loss: 0.3794 - val_accuracy: 0.8736\n",
      "Epoch 2/10\n",
      "141/141 [==============================] - 16s 113ms/step - loss: 0.2325 - accuracy: 0.9103 - val_loss: 0.2064 - val_accuracy: 0.9300\n",
      "Epoch 3/10\n",
      "141/141 [==============================] - 16s 114ms/step - loss: 0.1584 - accuracy: 0.9410 - val_loss: 0.1476 - val_accuracy: 0.9500\n",
      "Epoch 4/10\n",
      "141/141 [==============================] - 16s 112ms/step - loss: 0.1361 - accuracy: 0.9502 - val_loss: 0.1657 - val_accuracy: 0.9421\n",
      "Epoch 5/10\n",
      "141/141 [==============================] - 16s 116ms/step - loss: 0.1283 - accuracy: 0.9538 - val_loss: 0.1602 - val_accuracy: 0.9471\n",
      "Epoch 6/10\n",
      "141/141 [==============================] - 16s 113ms/step - loss: 0.0818 - accuracy: 0.9700 - val_loss: 0.2201 - val_accuracy: 0.9293\n",
      "Epoch 7/10\n",
      "141/141 [==============================] - 16s 114ms/step - loss: 0.1554 - accuracy: 0.9460 - val_loss: 0.1674 - val_accuracy: 0.9471\n",
      "Epoch 8/10\n",
      "141/141 [==============================] - 16s 113ms/step - loss: 0.0688 - accuracy: 0.9769 - val_loss: 0.1574 - val_accuracy: 0.9586\n",
      "Epoch 9/10\n",
      "141/141 [==============================] - 16s 114ms/step - loss: 0.0515 - accuracy: 0.9817 - val_loss: 0.1849 - val_accuracy: 0.9529\n",
      "Epoch 10/10\n",
      "141/141 [==============================] - 16s 113ms/step - loss: 0.0366 - accuracy: 0.9881 - val_loss: 0.2016 - val_accuracy: 0.9621\n"
     ]
    }
   ],
   "source": [
    "#build the model\n",
    "model = tf.keras.models.Sequential();\n",
    "model.add(tf.keras.layers.Conv2D(128, (3, 3), activation='relu',input_shape=(50,50,3)))\n",
    "model.add(tf.keras.layers.MaxPooling2D(pool_size=(2, 2)))\n",
    "model.add(tf.keras.layers.Conv2D(64, (3, 3), activation='relu'))\n",
    "model.add(tf.keras.layers.MaxPooling2D(pool_size=(2, 2)))\n",
    "model.add(tf.keras.layers.Conv2D(32, (3, 3), activation='relu'))\n",
    "model.add(tf.keras.layers.MaxPooling2D(pool_size=(2, 2)))\n",
    "model.add(tf.keras.layers.Flatten());\n",
    "model.add(tf.keras.layers.Dense(50, activation= \"relu\"));\n",
    "model.add(tf.keras.layers.Dense(50, activation= \"relu\"));\n",
    "model.add(tf.keras.layers.Dense(2, activation= \"softmax\"));\n",
    "model.compile(optimizer = \"adam\",\n",
    "              loss = \"sparse_categorical_crossentropy\",\n",
    "              metrics = ['accuracy'])\n",
    "history = model.fit(x_train, y_train,batch_size=30, epochs = 10, validation_data = (x_cross_validation, y_cross_validation),workers=4)"
   ]
  },
  {
   "cell_type": "code",
   "execution_count": 7,
   "id": "6b701637",
   "metadata": {
    "execution": {
     "iopub.execute_input": "2022-02-25T12:56:12.735894Z",
     "iopub.status.busy": "2022-02-25T12:56:12.734918Z",
     "iopub.status.idle": "2022-02-25T12:56:12.976008Z",
     "shell.execute_reply": "2022-02-25T12:56:12.975398Z",
     "shell.execute_reply.started": "2022-02-25T12:49:47.297019Z"
    },
    "papermill": {
     "duration": 0.77626,
     "end_time": "2022-02-25T12:56:12.976170",
     "exception": false,
     "start_time": "2022-02-25T12:56:12.199910",
     "status": "completed"
    },
    "tags": []
   },
   "outputs": [
    {
     "data": {
      "text/plain": [
       "<matplotlib.legend.Legend at 0x7fd216fa5bd0>"
      ]
     },
     "execution_count": 7,
     "metadata": {},
     "output_type": "execute_result"
    },
    {
     "data": {
      "image/png": "[encoded data removed]",
      "text/plain": [
       "<Figure size 432x288 with 1 Axes>"
      ]
     },
     "metadata": {
      "needs_background": "light"
     },
     "output_type": "display_data"
    }
   ],
   "source": [
    "#visualize the loss with the train and crossvalidation\n",
    "plt.plot(history.history['loss'], label='Train')\n",
    "plt.plot(history.history['val_loss'], label = 'Cross Validation')\n",
    "plt.xlabel('Epoch')\n",
    "plt.ylabel('Loss')\n",
    "plt.ylim([0, 1])\n",
    "plt.legend(loc='upper right')\n"
   ]
  },
  {
   "cell_type": "code",
   "execution_count": 8,
   "id": "899ba314",
   "metadata": {
    "execution": {
     "iopub.execute_input": "2022-02-25T12:56:14.051224Z",
     "iopub.status.busy": "2022-02-25T12:56:14.050514Z",
     "iopub.status.idle": "2022-02-25T12:56:15.545775Z",
     "shell.execute_reply": "2022-02-25T12:56:15.545082Z",
     "shell.execute_reply.started": "2022-02-25T12:50:04.311955Z"
    },
    "papermill": {
     "duration": 2.03135,
     "end_time": "2022-02-25T12:56:15.545937",
     "exception": false,
     "start_time": "2022-02-25T12:56:13.514587",
     "status": "completed"
    },
    "tags": []
   },
   "outputs": [
    {
     "name": "stdout",
     "output_type": "stream",
     "text": [
      "44/44 [==============================] - 1s 32ms/step - loss: 0.2128 - accuracy: 0.9507\n",
      "0.21282406151294708 0.9507494568824768\n"
     ]
    }
   ],
   "source": [
    "val_loss, val_accuracy = model.evaluate(x_test, y_test)\n",
    "print(val_loss,val_accuracy)"
   ]
  },
  {
   "cell_type": "code",
   "execution_count": 9,
   "id": "5808b3aa",
   "metadata": {
    "execution": {
     "iopub.execute_input": "2022-02-25T12:56:16.683417Z",
     "iopub.status.busy": "2022-02-25T12:56:16.682691Z",
     "iopub.status.idle": "2022-02-25T12:56:18.240409Z",
     "shell.execute_reply": "2022-02-25T12:56:18.239698Z",
     "shell.execute_reply.started": "2022-02-25T12:50:10.451857Z"
    },
    "papermill": {
     "duration": 2.110401,
     "end_time": "2022-02-25T12:56:18.240555",
     "exception": false,
     "start_time": "2022-02-25T12:56:16.130154",
     "status": "completed"
    },
    "tags": []
   },
   "outputs": [
    {
     "name": "stdout",
     "output_type": "stream",
     "text": [
      "              precision    recall  f1-score   support\n",
      "\n",
      "           0       0.94      0.96      0.95       673\n",
      "           1       0.96      0.94      0.95       728\n",
      "\n",
      "    accuracy                           0.95      1401\n",
      "   macro avg       0.95      0.95      0.95      1401\n",
      "weighted avg       0.95      0.95      0.95      1401\n",
      "\n"
     ]
    }
   ],
   "source": [
    "#extract the output from the probability distrbution\n",
    "predictions = np.argmax(model.predict(x_test),axis = 1)\n",
    "#show the precision, recall and f1_score\n",
    "print(classification_report(y_test, predictions))"
   ]
  },
  {
   "cell_type": "code",
   "execution_count": 10,
   "id": "764afb5e",
   "metadata": {
    "execution": {
     "iopub.execute_input": "2022-02-25T12:56:19.344070Z",
     "iopub.status.busy": "2022-02-25T12:56:19.343394Z",
     "iopub.status.idle": "2022-02-25T12:56:19.518995Z",
     "shell.execute_reply": "2022-02-25T12:56:19.518396Z",
     "shell.execute_reply.started": "2022-02-25T12:50:15.464809Z"
    },
    "papermill": {
     "duration": 0.7341,
     "end_time": "2022-02-25T12:56:19.519155",
     "exception": false,
     "start_time": "2022-02-25T12:56:18.785055",
     "status": "completed"
    },
    "tags": []
   },
   "outputs": [
    {
     "data": {
      "image/png": "[encoded data removed]",
      "text/plain": [
       "<Figure size 432x288 with 1 Axes>"
      ]
     },
     "metadata": {
      "needs_background": "light"
     },
     "output_type": "display_data"
    },
    {
     "name": "stdout",
     "output_type": "stream",
     "text": [
      "the predicted class is with_mask\n"
     ]
    }
   ],
   "source": [
    "predictions_classes = [\"without_mask\", \"with_mask\"]\n",
    "plt.imshow(x_test[0])\n",
    "plt.show()\n",
    "print(\"the predicted class is \"+ predictions_classes[predictions[0]])\n"
   ]
  }
 ],
 "metadata": {
  "kernelspec": {
   "display_name": "Python 3",
   "language": "python",
   "name": "python3"
  },
  "language_info": {
   "codemirror_mode": {
    "name": "ipython",
    "version": 3
   },
   "file_extension": ".py",
   "mimetype": "text/x-python",
   "name": "python",
   "nbconvert_exporter": "python",
   "pygments_lexer": "ipython3",
   "version": "3.7.12"
  },
  "papermill": {
   "default_parameters": {},
   "duration": 247.956027,
   "end_time": "2022-02-25T12:56:23.478961",
   "environment_variables": {},
   "exception": null,
   "input_path": "__notebook__.ipynb",
   "output_path": "__notebook__.ipynb",
   "parameters": {},
   "start_time": "2022-02-25T12:52:15.522934",
   "version": "2.3.3"
  }
 },
 "nbformat": 4,
 "nbformat_minor": 5
}
